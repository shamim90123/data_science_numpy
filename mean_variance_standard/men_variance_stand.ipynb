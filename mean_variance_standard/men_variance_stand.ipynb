{
 "cells": [
  {
   "cell_type": "code",
   "execution_count": 5,
   "id": "f1195fe1-3a3b-49aa-87eb-4c1ffc1883db",
   "metadata": {},
   "outputs": [
    {
     "name": "stdout",
     "output_type": "stream",
     "text": [
      "5.0\n",
      "4.0\n",
      "2.0\n"
     ]
    }
   ],
   "source": [
    "import numpy as np\n",
    "\n",
    "list = [2, 4, 4, 4, 5, 5, 7, 9]\n",
    "\n",
    "print(np.average(list)) # mean\n",
    "print(np.var(list)) #variance\n",
    "print(np.std(list)) #variance"
   ]
  },
  {
   "cell_type": "code",
   "execution_count": null,
   "id": "f619218d-b648-4561-bdd9-11f65235a2e6",
   "metadata": {},
   "outputs": [],
   "source": []
  }
 ],
 "metadata": {
  "kernelspec": {
   "display_name": "Python 3 (ipykernel)",
   "language": "python",
   "name": "python3"
  },
  "language_info": {
   "codemirror_mode": {
    "name": "ipython",
    "version": 3
   },
   "file_extension": ".py",
   "mimetype": "text/x-python",
   "name": "python",
   "nbconvert_exporter": "python",
   "pygments_lexer": "ipython3",
   "version": "3.12.1"
  }
 },
 "nbformat": 4,
 "nbformat_minor": 5
}
