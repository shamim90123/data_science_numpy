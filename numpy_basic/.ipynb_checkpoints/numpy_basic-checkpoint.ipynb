{
 "cells": [
  {
   "cell_type": "code",
   "execution_count": 1,
   "id": "eb9ed5dd-593f-4fd4-97b7-8194d009c98d",
   "metadata": {},
   "outputs": [
    {
     "name": "stdout",
     "output_type": "stream",
     "text": [
      "Array [1 2 3 4 5 6 7]\n",
      "number of dimensions : 1\n",
      "Array Slice [1 2]\n",
      "array version : 1.26.3\n",
      "array type : <class 'numpy.ndarray'>\n"
     ]
    }
   ],
   "source": [
    "import numpy as np\n",
    "\n",
    "# arr = np.array([1, 2, 3, 4, 5])\n",
    "#arr = np.array((1, 2, 3, 4, 5, 6))\n",
    "\n",
    "# 0-D\n",
    "#arr = np.array(50)\n",
    "\n",
    "#1-D\n",
    "#arr = np.array([1,2,3,4,5,6])\n",
    "\n",
    "#2-D\n",
    "#arr = np.array([[1,2,3,4], [5,6,7,8]])\n",
    "\n",
    "#3-Dee\n",
    "#arr = np.array([[[1,2,3,4], [5,6,7,8]],[[3,4,6,7],[36,7,22,45]]])\n",
    "\n",
    "#arr = np.array([1,3,4,5], ndmin = 4)\n",
    "\n",
    "#arr = np.array([[1,2,3,4,5], [6,7,8,9,10]])\n",
    "\n",
    "#arr = np.array([[[1, 2, 3], [4, 5, 6]], [[7, 8, 9], [10, 11, 12]]])\n",
    "\n",
    "\n",
    "# NumPy Data Types start...\n",
    "# arr2 = np.array([1, 2, 3, 4])\n",
    "# arr3 = np.array(['apple', 'banana', 'cherry'])\n",
    "# arr4 = np.array([1, 2, 3, 4], dtype='S')\n",
    "# arr5 = np.array([1, 2, 3, 4], dtype='i4')\n",
    "\n",
    "# print(arr2)\n",
    "# print(arr2.dtype)\n",
    "\n",
    "# print(arr3)\n",
    "# print(arr3.dtype)\n",
    "\n",
    "# print(arr4)\n",
    "# print(arr4.dtype)\n",
    "\n",
    "# print(arr5)\n",
    "# print(arr5.dtype)\n",
    "\n",
    "# NumPy Data Types end...\n",
    "\n",
    "arr = np.array([1, 2, 3, 4, 5, 6, 7])\n",
    "\n",
    "print('Array', arr)\n",
    "print('number of dimensions :', arr.ndim)\n",
    "#print('2nd element on 1st row: ', arr[0,1])\n",
    "print('Array Slice', arr[:2])\n",
    "\n",
    "print('array version :', np.__version__)\n",
    "print('array type :', type(arr))"
   ]
  },
  {
   "cell_type": "code",
   "execution_count": null,
   "id": "03ffef05-f543-4793-8d81-051de205367e",
   "metadata": {},
   "outputs": [],
   "source": []
  },
  {
   "cell_type": "code",
   "execution_count": null,
   "id": "8200f50e-7907-4a0e-aed7-570e274892c6",
   "metadata": {},
   "outputs": [],
   "source": []
  }
 ],
 "metadata": {
  "kernelspec": {
   "display_name": "Python 3 (ipykernel)",
   "language": "python",
   "name": "python3"
  },
  "language_info": {
   "codemirror_mode": {
    "name": "ipython",
    "version": 3
   },
   "file_extension": ".py",
   "mimetype": "text/x-python",
   "name": "python",
   "nbconvert_exporter": "python",
   "pygments_lexer": "ipython3",
   "version": "3.12.1"
  }
 },
 "nbformat": 4,
 "nbformat_minor": 5
}
