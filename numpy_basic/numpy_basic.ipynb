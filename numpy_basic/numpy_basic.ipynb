{
 "cells": [
  {
   "cell_type": "code",
   "execution_count": 12,
   "id": "eb9ed5dd-593f-4fd4-97b7-8194d009c98d",
   "metadata": {},
   "outputs": [
    {
     "name": "stdout",
     "output_type": "stream",
     "text": [
      "[[ 1  2  3  4]\n",
      " [ 5  6  7  8]\n",
      " [ 9 10 11 12]]\n",
      "1.26.3\n",
      "<class 'numpy.ndarray'>\n"
     ]
    }
   ],
   "source": [
    "import numpy as np\n",
    "\n",
    "# arr = np.array([1, 2, 3, 4, 5])\n",
    "#arr = np.array((1, 2, 3, 4, 5, 6))\n",
    "\n",
    "# 0-D\n",
    "#arr = np.array(50)\n",
    "\n",
    "#1-D\n",
    "#arr = np.array([1,2,3,4,5,6])\n",
    "\n",
    "#2-D\n",
    "#arr = np.array([[1,2,3,4], [5,6,7,8]])\n",
    "\n",
    "#3-D\n",
    "arr = np.array([[1,2,3,4], [5,6,7,8], [9,10,11,12]])\n",
    "\n",
    "print(arr)\n",
    "print(np.__version__)\n",
    "print(type(arr))"
   ]
  },
  {
   "cell_type": "code",
   "execution_count": null,
   "id": "03ffef05-f543-4793-8d81-051de205367e",
   "metadata": {},
   "outputs": [],
   "source": []
  },
  {
   "cell_type": "code",
   "execution_count": null,
   "id": "8200f50e-7907-4a0e-aed7-570e274892c6",
   "metadata": {},
   "outputs": [],
   "source": []
  }
 ],
 "metadata": {
  "kernelspec": {
   "display_name": "Python 3 (ipykernel)",
   "language": "python",
   "name": "python3"
  },
  "language_info": {
   "codemirror_mode": {
    "name": "ipython",
    "version": 3
   },
   "file_extension": ".py",
   "mimetype": "text/x-python",
   "name": "python",
   "nbconvert_exporter": "python",
   "pygments_lexer": "ipython3",
   "version": "3.12.1"
  }
 },
 "nbformat": 4,
 "nbformat_minor": 5
}
